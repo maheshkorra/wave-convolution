{
 "cells": [
  {
   "cell_type": "code",
   "execution_count": 10,
   "metadata": {},
   "outputs": [
    {
     "name": "stdout",
     "output_type": "stream",
     "text": [
      "4\n",
      "5\n",
      "1\n",
      "6\n",
      "1\n",
      "20\n",
      "4\n",
      "100\n",
      "24\n"
     ]
    }
   ],
   "source": [
    "def powerof5(num):\n",
    "    c=0\n",
    "    for i in range(1,num+1):\n",
    "        n=i\n",
    "        while(n%5==0):\n",
    "            c=c+1\n",
    "            n=n/5 \n",
    "    return c \n",
    "    \n",
    "def powerof2(num):\n",
    "    c=0\n",
    "    for i in range(1,num+1):\n",
    "        n=i\n",
    "        while(n%2==0):\n",
    "            c=c+1\n",
    "            n=n/2 \n",
    "    return c \n",
    "    \n",
    "\n",
    "M = int(input(\"\"))\n",
    "while M > 0:\n",
    "    num = int(input())\n",
    "    n5=powerof5(num)\n",
    "    n2=powerof2(num)\n",
    "    if n2>n5:\n",
    "        n=n5\n",
    "    else:\n",
    "        n=n2\n",
    "    print(n)\n",
    "    M=M-1"
   ]
  },
  {
   "cell_type": "code",
   "execution_count": null,
   "metadata": {},
   "outputs": [],
   "source": [
    "def checknum(self,n):\n",
    "    re=0\n",
    "    if(n%3!=0):\n",
    "        re=-1\n",
    "    else:\n",
    "        if(n%6==0):\n",
    "            re=0\n",
    "        else:\n",
    "            re=1\n",
    "    return re\n",
    "\n",
    "num = int(input(\"\"))\n",
    "n1=checknum(num)\n",
    "    \n",
    "print(n1)"
   ]
  },
  {
   "cell_type": "code",
   "execution_count": 2,
   "metadata": {},
   "outputs": [
    {
     "name": "stdout",
     "output_type": "stream",
     "text": [
      "5\n",
      "5\n"
     ]
    }
   ],
   "source": [
    "num = int(input(\"\"))\n",
    "print(num)\n"
   ]
  },
  {
   "cell_type": "code",
   "execution_count": null,
   "metadata": {},
   "outputs": [],
   "source": []
  },
  {
   "cell_type": "code",
   "execution_count": null,
   "metadata": {},
   "outputs": [],
   "source": []
  },
  {
   "cell_type": "code",
   "execution_count": null,
   "metadata": {},
   "outputs": [],
   "source": []
  },
  {
   "cell_type": "code",
   "execution_count": 2,
   "metadata": {},
   "outputs": [],
   "source": [
    "x=\"abcdefghijklmn\""
   ]
  },
  {
   "cell_type": "code",
   "execution_count": 3,
   "metadata": {},
   "outputs": [
    {
     "data": {
      "text/plain": [
       "'c'"
      ]
     },
     "execution_count": 3,
     "metadata": {},
     "output_type": "execute_result"
    }
   ],
   "source": [
    "x[2]"
   ]
  },
  {
   "cell_type": "code",
   "execution_count": 4,
   "metadata": {},
   "outputs": [
    {
     "data": {
      "text/plain": [
       "'m'"
      ]
     },
     "execution_count": 4,
     "metadata": {},
     "output_type": "execute_result"
    }
   ],
   "source": [
    "x[-2]"
   ]
  },
  {
   "cell_type": "code",
   "execution_count": 5,
   "metadata": {},
   "outputs": [
    {
     "data": {
      "text/plain": [
       "'cde'"
      ]
     },
     "execution_count": 5,
     "metadata": {},
     "output_type": "execute_result"
    }
   ],
   "source": [
    "x[2:5]"
   ]
  },
  {
   "cell_type": "code",
   "execution_count": 6,
   "metadata": {},
   "outputs": [
    {
     "data": {
      "text/plain": [
       "''"
      ]
     },
     "execution_count": 6,
     "metadata": {},
     "output_type": "execute_result"
    }
   ],
   "source": [
    "x[-2:-5]"
   ]
  },
  {
   "cell_type": "code",
   "execution_count": 7,
   "metadata": {},
   "outputs": [
    {
     "data": {
      "text/plain": [
       "'jkl'"
      ]
     },
     "execution_count": 7,
     "metadata": {},
     "output_type": "execute_result"
    }
   ],
   "source": [
    "x[-5:-2]"
   ]
  },
  {
   "cell_type": "code",
   "execution_count": 8,
   "metadata": {},
   "outputs": [],
   "source": [
    "k=\"abcba\""
   ]
  },
  {
   "cell_type": "code",
   "execution_count": 9,
   "metadata": {},
   "outputs": [
    {
     "data": {
      "text/plain": [
       "'cb'"
      ]
     },
     "execution_count": 9,
     "metadata": {},
     "output_type": "execute_result"
    }
   ],
   "source": [
    "k[2:4]"
   ]
  },
  {
   "cell_type": "code",
   "execution_count": 10,
   "metadata": {},
   "outputs": [
    {
     "data": {
      "text/plain": [
       "'bcb'"
      ]
     },
     "execution_count": 10,
     "metadata": {},
     "output_type": "execute_result"
    }
   ],
   "source": [
    "k[1:4]"
   ]
  },
  {
   "cell_type": "code",
   "execution_count": 11,
   "metadata": {},
   "outputs": [
    {
     "data": {
      "text/plain": [
       "'bcb'"
      ]
     },
     "execution_count": 11,
     "metadata": {},
     "output_type": "execute_result"
    }
   ],
   "source": [
    "k[-4:-1]"
   ]
  },
  {
   "cell_type": "code",
   "execution_count": 32,
   "metadata": {},
   "outputs": [
    {
     "name": "stdout",
     "output_type": "stream",
     "text": [
      "for i iter 0 5\n",
      "1 1\n",
      "compare index 0 1\n",
      "24 39 1\n",
      "2\n",
      "compare index 1 2\n",
      "60 15 2\n",
      "2\n",
      "compare index 1 3\n",
      "60 27 2\n",
      "2\n",
      "compare index 1 4\n",
      "60 50 2\n",
      "2\n",
      "max len 1 2\n",
      "for i iter 1 5\n",
      "2 1\n",
      "compare index 1 2\n",
      "60 15 1\n",
      "1\n",
      "compare index 1 3\n",
      "60 27 1\n",
      "1\n",
      "compare index 1 4\n",
      "60 50 1\n",
      "1\n",
      "max len 2 1\n",
      "for i iter 2 5\n",
      "2 1\n",
      "compare index 2 3\n",
      "28 27 1\n",
      "1\n",
      "compare index 2 4\n",
      "28 50 1\n",
      "2\n",
      "max len 2 2\n",
      "for i iter 3 5\n",
      "2 1\n",
      "compare index 3 4\n",
      "40 50 1\n",
      "2\n",
      "max len 2 2\n",
      "this length  2\n"
     ]
    }
   ],
   "source": [
    " if 1:\n",
    "    \n",
    "        A=[[5, 24],[39, 60],[15, 28],[27, 40],[50, 90]]\n",
    "        n = len(A)\n",
    "        maxl=1\n",
    "        for i in range(n-1):\n",
    "            li=1\n",
    "            k=i\n",
    "            print(\"for i iter\",i,n)\n",
    "            print(maxl,li)\n",
    "            for j in range(i+1,n):\n",
    "                #print(j,n) \n",
    "                print(\"compare index\",k,j)\n",
    "                print(A[k][1],A[j][0],li)\n",
    "                if A[k][1]<A[j][0]:\n",
    "                    #print(A[k][1],A[j+1][0])\n",
    "                    li+=1\n",
    "                    k=j \n",
    "                print(li)\n",
    "            print(\"max len\",maxl,li)\n",
    "            if maxl<li:\n",
    "                maxl=li\n",
    "        print(\"this length \",maxl)"
   ]
  },
  {
   "cell_type": "code",
   "execution_count": null,
   "metadata": {},
   "outputs": [],
   "source": []
  }
 ],
 "metadata": {
  "kernelspec": {
   "display_name": "Python 3",
   "language": "python",
   "name": "python3"
  },
  "language_info": {
   "codemirror_mode": {
    "name": "ipython",
    "version": 3
   },
   "file_extension": ".py",
   "mimetype": "text/x-python",
   "name": "python",
   "nbconvert_exporter": "python",
   "pygments_lexer": "ipython3",
   "version": "3.8.5"
  }
 },
 "nbformat": 4,
 "nbformat_minor": 4
}
