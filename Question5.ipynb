{
 "cells": [
  {
   "cell_type": "markdown",
   "metadata": {
    "scrolled": false
   },
   "source": [
    "This is a solution for Q5.(a)."
   ]
  },
  {
   "cell_type": "code",
   "execution_count": 5,
   "metadata": {},
   "outputs": [
    {
     "name": "stdout",
     "output_type": "stream",
     "text": [
      "1\n",
      "5\n",
      "5 2 4 8 3\n",
      "tree complete\n",
      "[2, 3, 4, 8, 5]\n",
      "0\n"
     ]
    }
   ],
   "source": [
    "#User function Template for python3\n",
    "class Node:\n",
    "    def __init__(self, val):\n",
    "        self.data = val\n",
    "        self.left = None\n",
    "        self.right = None\n",
    "        \n",
    "\n",
    "class Solution:\n",
    "    def canRepresentBST(self, arr, N):\n",
    "        # code here\n",
    "        N=len(arr)\n",
    "        a=[]\n",
    "        root=Node(arr[0])\n",
    "        #for i in range(1,N):\n",
    "        treefrompre(root,arr,N,1)\n",
    "        print(\"tree complete\")\n",
    "        Inorderlist(a,root)\n",
    "        #a=arr\n",
    "        print(a)\n",
    "        for i in range(1,len(a)):\n",
    "            if a[i-1]>a[i]:\n",
    "                return 0\n",
    "        return 1\n",
    "        \n",
    "        \n",
    "def Inorderlist(a,root):\n",
    "    if root:\n",
    "        # First recur on left child\n",
    "        Inorderlist(a,root.left)\n",
    "        # then print the data of node\n",
    "        #print(root.data,end=\" \")\n",
    "        a.append(root.data)\n",
    "        # now recur on right child\n",
    "        Inorderlist(a,root.right)\n",
    "    return        \n",
    "\n",
    "'''def treefrompre(node,num,n,i):\n",
    "    if i<n:\n",
    "        if num[i]<node.data:\n",
    "            if (node.left==None):\n",
    "                temp=Node(num[i])\n",
    "                i+=1\n",
    "                node.left=temp\n",
    "            else:\n",
    "                i=treefrompre(node.left,num)\n",
    "        elif num[i]>node.data:\n",
    "            if node.right==None:\n",
    "                temp=Node(num[i])\n",
    "                i+=1\n",
    "                node.right=temp\n",
    "            else:\n",
    "                i=treefrompre(node.right,num)\n",
    "         i=treefrompre(node,num,N,i)\n",
    "    return i    '''\n",
    "    \n",
    "def treefrompre(node,num,n,i):\n",
    "    #print(i)\n",
    "    if i<n :\n",
    "        if num[i]>node.data:\n",
    "            if node.right==None:\n",
    "                temp=Node(num[i])\n",
    "                i+=1\n",
    "                #print(\"right\",i-1,num[i-1])\n",
    "                node.right=temp\n",
    "            else:\n",
    "                #print(\"node right not none\")\n",
    "                i=treefrompre(node.right,num,n,i,)\n",
    "        elif num[i]<node.data:\n",
    "            if (node.left==None):\n",
    "                temp=Node(num[i])\n",
    "                i+=1\n",
    "                #print(\"left\",i-1,num[i-1])\n",
    "                node.left=temp\n",
    "            else:\n",
    "                #print(\"node left not none\")\n",
    "                i=treefrompre(node.left,num,n,i)\n",
    "        i=treefrompre(node,num,n,i)\n",
    "    return i  \n",
    "        \n",
    " \n",
    "#{ \n",
    "#  Driver Code Starts\n",
    "#Initial Template for Python 3\n",
    "\n",
    "import sys\n",
    "sys.setrecursionlimit(10**6)\n",
    "\n",
    "if __name__ == '__main__':\n",
    "    t = int(input())\n",
    "    for _ in range (t):\n",
    "        N = int(input())\n",
    "        arr = input().split()\n",
    "        for itr in range(N):\n",
    "            arr[itr] = int(arr[itr])\n",
    "        \n",
    "        ob = Solution()\n",
    "        print(ob.canRepresentBST(arr, N))\n",
    "# } Driver Code Ends"
   ]
  },
  {
   "cell_type": "code",
   "execution_count": 6,
   "metadata": {},
   "outputs": [
    {
     "name": "stdout",
     "output_type": "stream",
     "text": [
      "done\n"
     ]
    }
   ],
   "source": [
    "for i in range(3,1):\n",
    "    print(i)\n",
    "print(\"done\")"
   ]
  },
  {
   "cell_type": "code",
   "execution_count": 4,
   "metadata": {},
   "outputs": [
    {
     "name": "stdout",
     "output_type": "stream",
     "text": [
      "3\n"
     ]
    }
   ],
   "source": [
    "class sum:\n",
    "    def __init__(self):\n",
    "        a=1\n",
    "        a=add1(a+1)\n",
    "        print(a)\n",
    "        \n",
    "def add1(a):\n",
    "    if (a<3):\n",
    "        a=add1(a+1)\n",
    "    return a\n",
    "    \n",
    "\n",
    "p=sum()\n"
   ]
  },
  {
   "cell_type": "code",
   "execution_count": null,
   "metadata": {},
   "outputs": [],
   "source": []
  }
 ],
 "metadata": {
  "kernelspec": {
   "display_name": "Python 3",
   "language": "python",
   "name": "python3"
  },
  "language_info": {
   "codemirror_mode": {
    "name": "ipython",
    "version": 3
   },
   "file_extension": ".py",
   "mimetype": "text/x-python",
   "name": "python",
   "nbconvert_exporter": "python",
   "pygments_lexer": "ipython3",
   "version": "3.8.8"
  }
 },
 "nbformat": 4,
 "nbformat_minor": 4
}
